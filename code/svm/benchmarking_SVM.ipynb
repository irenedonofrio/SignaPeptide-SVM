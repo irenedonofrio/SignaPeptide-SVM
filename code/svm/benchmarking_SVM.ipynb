{
 "cells": [
  {
   "cell_type": "code",
   "execution_count": 1,
   "metadata": {},
   "outputs": [],
   "source": [
    "import numpy as np\n",
    "import pandas as pd\n",
    "import sklearn\n",
    "import matplotlib.pyplot as plt\n",
    "import seaborn as sns\n",
    "#### SVM\n",
    "from sklearn.svm import SVC\n",
    "from sklearn.metrics import classification_report, matthews_corrcoef, precision_score,recall_score, accuracy_score, confusion_matrix\n",
    "#\n",
    "from feature_extraction_copy import feature_extraction\n",
    "from functions import get_model_results\n",
    "#\n",
    "from scipy.stats import fisher_exact, mannwhitneyu, sem"
   ]
  },
  {
   "cell_type": "markdown",
   "metadata": {},
   "source": [
    "### Dataset preparation"
   ]
  },
  {
   "cell_type": "code",
   "execution_count": 2,
   "metadata": {},
   "outputs": [],
   "source": [
    "training = pd.read_table('../clean_metadata_training')\n",
    "benchmarking = pd.read_table('../clean_metadata_benchmarking')\n",
    "#positives_train = training[training['Signal peptide'].isnull() == False]\n",
    "#negatives_train = training[training['Signal peptide'].isnull() == True]\n",
    "training['class'] = 0\n",
    "training.loc[training['Signal peptide'].notna(), 'class'] = 1\n",
    "#\n",
    "benchmarking['class'] = 0\n",
    "benchmarking.loc[benchmarking['Signal peptide'].notna(), 'class'] = 1"
   ]
  },
  {
   "cell_type": "markdown",
   "metadata": {},
   "source": [
    "### Benchmarking on a blind set\n",
    "\n",
    "We test on a blid set the most perfomative model found during the cross validation"
   ]
  },
  {
   "cell_type": "code",
   "execution_count": 3,
   "metadata": {},
   "outputs": [],
   "source": [
    "#model\n",
    "model_combination = 'SVM-comp-transmem_tendency-global_comp-hp_global'\n",
    "global_comp= True\n",
    "hp = False\n",
    "hp_global = True\n",
    "charge = False\n",
    "h_tendency =False\n",
    "transmem_tendency = True\n",
    "glob_transmem_tendency = False"
   ]
  },
  {
   "cell_type": "code",
   "execution_count": 4,
   "metadata": {},
   "outputs": [
    {
     "name": "stderr",
     "output_type": "stream",
     "text": [
      "warning: W or U is not a standard amino acid.\n",
      "warning: I or U is not a standard amino acid.\n",
      "warning: D or U is not a standard amino acid.\n",
      "warning: N or U is not a standard amino acid.\n",
      "warning: M or U is not a standard amino acid.\n",
      "warning: N or U is not a standard amino acid.\n",
      "warning: E or U is not a standard amino acid.\n",
      "warning: T or U is not a standard amino acid.\n",
      "warning: T or U is not a standard amino acid.\n",
      "warning: V or U is not a standard amino acid.\n",
      "warning: L or U is not a standard amino acid.\n",
      "warning: Q or U is not a standard amino acid.\n",
      "warning: S or U is not a standard amino acid.\n",
      "warning: U is not a standard amino acid.\n",
      "warning: U or Y is not a standard amino acid.\n",
      "warning: U or C is not a standard amino acid.\n",
      "warning: U or L is not a standard amino acid.\n",
      "warning: U or A is not a standard amino acid.\n",
      "warning: U or R is not a standard amino acid.\n",
      "warning: U or E is not a standard amino acid.\n",
      "warning: U or L is not a standard amino acid.\n",
      "warning: U or I is not a standard amino acid.\n",
      "warning: U or L is not a standard amino acid.\n",
      "warning: U or N is not a standard amino acid.\n",
      "warning: U or G is not a standard amino acid.\n",
      "warning: U or F is not a standard amino acid.\n",
      "warning: U or I is not a standard amino acid.\n",
      "warning: P or U is not a standard amino acid.\n",
      "warning: S or U is not a standard amino acid.\n",
      "warning: L or U is not a standard amino acid.\n",
      "warning: H or U is not a standard amino acid.\n",
      "warning: H or U is not a standard amino acid.\n",
      "warning: H or U is not a standard amino acid.\n",
      "warning: K or U is not a standard amino acid.\n",
      "warning: K or U is not a standard amino acid.\n",
      "warning: Q or U is not a standard amino acid.\n",
      "warning: R or U is not a standard amino acid.\n",
      "warning: G or U is not a standard amino acid.\n",
      "warning: L or U is not a standard amino acid.\n",
      "warning: S or U is not a standard amino acid.\n",
      "warning: U is not a standard amino acid.\n",
      "warning: U or D is not a standard amino acid.\n",
      "warning: U or G is not a standard amino acid.\n",
      "warning: U or S is not a standard amino acid.\n",
      "warning: U or G is not a standard amino acid.\n",
      "warning: U or Q is not a standard amino acid.\n",
      "warning: R or U is not a standard amino acid.\n",
      "warning: U or S is not a standard amino acid.\n",
      "warning: G or U is not a standard amino acid.\n",
      "warning: U or A is not a standard amino acid.\n",
      "warning: L or U is not a standard amino acid.\n",
      "warning: U or R is not a standard amino acid.\n",
      "warning: S or U is not a standard amino acid.\n",
      "warning: U or L is not a standard amino acid.\n",
      "warning: U or R is not a standard amino acid.\n",
      "warning: D or U is not a standard amino acid.\n",
      "warning: U or G is not a standard amino acid.\n",
      "warning: G or U is not a standard amino acid.\n",
      "warning: U or I is not a standard amino acid.\n",
      "warning: S or U is not a standard amino acid.\n",
      "warning: U or Q is not a standard amino acid.\n",
      "warning: G or U is not a standard amino acid.\n",
      "warning: Q or U is not a standard amino acid.\n",
      "warning: S or U is not a standard amino acid.\n",
      "warning: A or U is not a standard amino acid.\n",
      "warning: R or U is not a standard amino acid.\n",
      "warning: L or U is not a standard amino acid.\n",
      "warning: U is not a standard amino acid.\n",
      "warning: U or R is not a standard amino acid.\n",
      "warning: U or G is not a standard amino acid.\n",
      "warning: U or I is not a standard amino acid.\n",
      "warning: U or Q is not a standard amino acid.\n",
      "warning: U or L is not a standard amino acid.\n",
      "warning: U or K is not a standard amino acid.\n",
      "warning: U or S is not a standard amino acid.\n",
      "warning: U or E is not a standard amino acid.\n",
      "warning: U or G is not a standard amino acid.\n",
      "warning: U or A is not a standard amino acid.\n",
      "warning: U or S is not a standard amino acid.\n",
      "warning: U or C is not a standard amino acid.\n",
      "warning: U or C is not a standard amino acid.\n",
      "warning: S or U is not a standard amino acid.\n",
      "warning: A or U is not a standard amino acid.\n",
      "warning: T or U is not a standard amino acid.\n",
      "warning: S or U is not a standard amino acid.\n",
      "warning: C or U is not a standard amino acid.\n",
      "warning: H or U is not a standard amino acid.\n",
      "warning: R or U is not a standard amino acid.\n",
      "warning: L or U is not a standard amino acid.\n",
      "warning: F or U is not a standard amino acid.\n",
      "warning: K or U is not a standard amino acid.\n",
      "warning: G or U is not a standard amino acid.\n",
      "warning: A or U is not a standard amino acid.\n",
      "warning: R or U is not a standard amino acid.\n",
      "warning: T or U is not a standard amino acid.\n",
      "warning: U is not a standard amino acid.\n",
      "warning: L or U is not a standard amino acid.\n",
      "warning: U or Q is not a standard amino acid.\n",
      "warning: F or U is not a standard amino acid.\n",
      "warning: U or A is not a standard amino acid.\n",
      "warning: K or U is not a standard amino acid.\n",
      "warning: U or N is not a standard amino acid.\n",
      "warning: G or U is not a standard amino acid.\n",
      "warning: U or P is not a standard amino acid.\n",
      "warning: A or U is not a standard amino acid.\n",
      "warning: U or L is not a standard amino acid.\n",
      "warning: T or U is not a standard amino acid.\n",
      "warning: U or S is not a standard amino acid.\n",
      "warning: U or Q is not a standard amino acid.\n",
      "warning: Q or U is not a standard amino acid.\n",
      "warning: U or L is not a standard amino acid.\n",
      "warning: A or U is not a standard amino acid.\n",
      "warning: U or A is not a standard amino acid.\n",
      "warning: N or U is not a standard amino acid.\n",
      "warning: U or E is not a standard amino acid.\n",
      "warning: P or U is not a standard amino acid.\n",
      "warning: U or V is not a standard amino acid.\n",
      "warning: L or U is not a standard amino acid.\n",
      "warning: U or E is not a standard amino acid.\n",
      "warning: S or U is not a standard amino acid.\n",
      "warning: U is not a standard amino acid.\n",
      "warning: U or C is not a standard amino acid.\n",
      "warning: U or Q is not a standard amino acid.\n",
      "warning: U or L is not a standard amino acid.\n",
      "warning: U or A is not a standard amino acid.\n",
      "warning: U or E is not a standard amino acid.\n",
      "warning: U or V is not a standard amino acid.\n",
      "warning: U or E is not a standard amino acid.\n",
      "warning: U or C is not a standard amino acid.\n",
      "warning: U or C is not a standard amino acid.\n",
      "warning: U or S is not a standard amino acid.\n",
      "warning: L or U is not a standard amino acid.\n",
      "warning: U or P is not a standard amino acid.\n",
      "warning: S or U is not a standard amino acid.\n",
      "warning: U or A is not a standard amino acid.\n",
      "warning: U or H is not a standard amino acid.\n",
      "warning: Q or U is not a standard amino acid.\n",
      "warning: U or Q is not a standard amino acid.\n",
      "warning: L or U is not a standard amino acid.\n",
      "warning: A or U is not a standard amino acid.\n",
      "warning: E or U is not a standard amino acid.\n",
      "warning: V or U is not a standard amino acid.\n",
      "warning: E or U is not a standard amino acid.\n",
      "warning: C or U is not a standard amino acid.\n",
      "warning: C or U is not a standard amino acid.\n",
      "warning: S or U is not a standard amino acid.\n",
      "warning: P or U is not a standard amino acid.\n",
      "warning: A or U is not a standard amino acid.\n",
      "warning: U is not a standard amino acid.\n",
      "warning: U or H is not a standard amino acid.\n",
      "warning: E or U is not a standard amino acid.\n",
      "warning: U or Q is not a standard amino acid.\n",
      "warning: C or U is not a standard amino acid.\n",
      "warning: U or V is not a standard amino acid.\n",
      "warning: C or U is not a standard amino acid.\n",
      "warning: C or U is not a standard amino acid.\n",
      "warning: U or P is not a standard amino acid.\n",
      "warning: C or U is not a standard amino acid.\n",
      "warning: S or U is not a standard amino acid.\n",
      "warning: U or E is not a standard amino acid.\n",
      "warning: S or U is not a standard amino acid.\n",
      "warning: P or U is not a standard amino acid.\n",
      "warning: U or S is not a standard amino acid.\n",
      "warning: P or U is not a standard amino acid.\n",
      "warning: A or U is not a standard amino acid.\n",
      "warning: U or N is not a standard amino acid.\n",
      "warning: A or U is not a standard amino acid.\n",
      "warning: U or S is not a standard amino acid.\n",
      "warning: H or U is not a standard amino acid.\n",
      "warning: U or N is not a standard amino acid.\n",
      "warning: H or U is not a standard amino acid.\n",
      "warning: Q or U is not a standard amino acid.\n",
      "warning: U or K is not a standard amino acid.\n",
      "warning: Q or U is not a standard amino acid.\n",
      "warning: V or U is not a standard amino acid.\n",
      "warning: A or U is not a standard amino acid.\n",
      "warning: U or K is not a standard amino acid.\n",
      "warning: V or U is not a standard amino acid.\n",
      "warning: P or U is not a standard amino acid.\n",
      "warning: U or U is not a standard amino acid.\n",
      "warning: P or U is not a standard amino acid.\n",
      "warning: E or U is not a standard amino acid.\n",
      "warning: U or U is not a standard amino acid.\n",
      "warning: S or U is not a standard amino acid.\n",
      "warning: E or U is not a standard amino acid.\n",
      "warning: S or U is not a standard amino acid.\n",
      "warning: S or U is not a standard amino acid.\n",
      "warning: H or U is not a standard amino acid.\n",
      "warning: S or U is not a standard amino acid.\n",
      "warning: N or U is not a standard amino acid.\n",
      "warning: U is not a standard amino acid.\n",
      "warning: H or U is not a standard amino acid.\n",
      "warning: S or U is not a standard amino acid.\n",
      "warning: N or U is not a standard amino acid.\n",
      "warning: U or S is not a standard amino acid.\n",
      "warning: S or U is not a standard amino acid.\n",
      "warning: T or U is not a standard amino acid.\n",
      "warning: U or N is not a standard amino acid.\n",
      "warning: S or U is not a standard amino acid.\n",
      "warning: U is not a standard amino acid.\n",
      "warning: T or U is not a standard amino acid.\n",
      "warning: A or U is not a standard amino acid.\n",
      "warning: U or K is not a standard amino acid.\n",
      "warning: U or N is not a standard amino acid.\n",
      "warning: A or U is not a standard amino acid.\n",
      "warning: P or U is not a standard amino acid.\n",
      "warning: U or K is not a standard amino acid.\n",
      "warning: U or K is not a standard amino acid.\n",
      "warning: P or U is not a standard amino acid.\n",
      "warning: U or U is not a standard amino acid.\n",
      "warning: U or K is not a standard amino acid.\n",
      "warning: A or U is not a standard amino acid.\n",
      "warning: G or U is not a standard amino acid.\n",
      "warning: D or U is not a standard amino acid.\n",
      "warning: R or U is not a standard amino acid.\n",
      "warning: R or U is not a standard amino acid.\n",
      "warning: Y or U is not a standard amino acid.\n",
      "warning: T or U is not a standard amino acid.\n",
      "warning: E or U is not a standard amino acid.\n",
      "warning: C or U is not a standard amino acid.\n",
      "warning: I or U is not a standard amino acid.\n",
      "warning: D or U is not a standard amino acid.\n",
      "warning: M or U is not a standard amino acid.\n",
      "warning: P or U is not a standard amino acid.\n",
      "warning: R or U is not a standard amino acid.\n",
      "warning: L or U is not a standard amino acid.\n",
      "warning: V or U is not a standard amino acid.\n",
      "warning: F or U is not a standard amino acid.\n",
      "warning: S or U is not a standard amino acid.\n",
      "warning: S or U is not a standard amino acid.\n",
      "warning: U is not a standard amino acid.\n",
      "warning: U or P is not a standard amino acid.\n",
      "warning: U or F is not a standard amino acid.\n",
      "warning: U or A is not a standard amino acid.\n",
      "warning: U or F is not a standard amino acid.\n",
      "warning: U or I is not a standard amino acid.\n",
      "warning: U or S is not a standard amino acid.\n",
      "warning: U or I is not a standard amino acid.\n",
      "warning: U or D is not a standard amino acid.\n",
      "warning: U or Y is not a standard amino acid.\n",
      "warning: U or E is not a standard amino acid.\n",
      "warning: U or A is not a standard amino acid.\n",
      "warning: U or F is not a standard amino acid.\n",
      "warning: U or T is not a standard amino acid.\n",
      "warning: L or U is not a standard amino acid.\n",
      "warning: P or U is not a standard amino acid.\n",
      "warning: N or U is not a standard amino acid.\n",
      "warning: D or U is not a standard amino acid.\n",
      "warning: L or U is not a standard amino acid.\n",
      "warning: L or U is not a standard amino acid.\n",
      "warning: S or U is not a standard amino acid.\n",
      "warning: K or U is not a standard amino acid.\n",
      "warning: A or U is not a standard amino acid.\n",
      "warning: I or U is not a standard amino acid.\n",
      "warning: F or U is not a standard amino acid.\n",
      "warning: A or U is not a standard amino acid.\n",
      "warning: W or U is not a standard amino acid.\n",
      "warning: U is not a standard amino acid.\n",
      "warning: U or G is not a standard amino acid.\n",
      "warning: U or C is not a standard amino acid.\n",
      "warning: U or K is not a standard amino acid.\n",
      "warning: U or K is not a standard amino acid.\n",
      "warning: U or D is not a standard amino acid.\n",
      "warning: U or D is not a standard amino acid.\n",
      "warning: U or L is not a standard amino acid.\n",
      "warning: U or S is not a standard amino acid.\n",
      "warning: U or F is not a standard amino acid.\n",
      "warning: U or D is not a standard amino acid.\n",
      "warning: U or K is not a standard amino acid.\n",
      "warning: U or V is not a standard amino acid.\n",
      "warning: U or I is not a standard amino acid.\n"
     ]
    },
    {
     "data": {
      "text/html": [
       "<div>\n",
       "<style scoped>\n",
       "    .dataframe tbody tr th:only-of-type {\n",
       "        vertical-align: middle;\n",
       "    }\n",
       "\n",
       "    .dataframe tbody tr th {\n",
       "        vertical-align: top;\n",
       "    }\n",
       "\n",
       "    .dataframe thead th {\n",
       "        text-align: right;\n",
       "    }\n",
       "</style>\n",
       "<table border=\"1\" class=\"dataframe\">\n",
       "  <thead>\n",
       "    <tr style=\"text-align: right;\">\n",
       "      <th></th>\n",
       "      <th>model</th>\n",
       "      <th>K</th>\n",
       "      <th>gamma</th>\n",
       "      <th>C</th>\n",
       "      <th>MCC val</th>\n",
       "      <th>MCC test</th>\n",
       "      <th>ACC</th>\n",
       "      <th>precision</th>\n",
       "      <th>recall</th>\n",
       "    </tr>\n",
       "  </thead>\n",
       "  <tbody>\n",
       "    <tr>\n",
       "      <th>0</th>\n",
       "      <td>SVM-comp-transmem_tendency-global_comp-hp_global</td>\n",
       "      <td>22</td>\n",
       "      <td>2</td>\n",
       "      <td>8</td>\n",
       "      <td>/</td>\n",
       "      <td>0.89</td>\n",
       "      <td>0.98</td>\n",
       "      <td>0.93</td>\n",
       "      <td>0.87</td>\n",
       "    </tr>\n",
       "  </tbody>\n",
       "</table>\n",
       "</div>"
      ],
      "text/plain": [
       "                                              model   K  gamma  C MCC val   \n",
       "0  SVM-comp-transmem_tendency-global_comp-hp_global  22      2  8       /  \\\n",
       "\n",
       "   MCC test   ACC  precision  recall  \n",
       "0      0.89  0.98       0.93    0.87  "
      ]
     },
     "execution_count": 4,
     "metadata": {},
     "output_type": "execute_result"
    }
   ],
   "source": [
    "#hyperparamters\n",
    "C =  8\n",
    "gamma = 2\n",
    "K =  22\n",
    "\n",
    "X_train,Y_train = feature_extraction(training,K,global_comp=global_comp,hp=hp,hp_global=hp_global,charge=charge,h_tendency=h_tendency,transmem_tendency=transmem_tendency,glob_transmem_tendency =glob_transmem_tendency)\n",
    "X_test, Y_test = feature_extraction(benchmarking,K,global_comp=global_comp,hp=hp,hp_global=hp_global,charge=charge,h_tendency=h_tendency,transmem_tendency=transmem_tendency,glob_transmem_tendency =glob_transmem_tendency)\n",
    "\n",
    "model = SVC(C=C, kernel='rbf', gamma=gamma)\n",
    "model.fit(X_train[1:],Y_train)\n",
    "Y_test_pred= model.predict(X_test[1:])\n",
    "mcc_test = matthews_corrcoef(Y_test,Y_test_pred)\n",
    "acc_test = accuracy_score(Y_test,Y_test_pred)\n",
    "prec_test = precision_score(Y_test,Y_test_pred)\n",
    "recall_test = recall_score(Y_test,Y_test_pred)\n",
    "#\n",
    "blind_set_results = {'model':[model_combination],'K':[K],'gamma':[gamma],'C':[C],'MCC val':['/'],'MCC test':[mcc_test],'ACC':[acc_test],'precision':[prec_test],'recall':[recall_test]}\n",
    "\n",
    "blind_set_results = pd.DataFrame.from_dict(blind_set_results).round(2)\n",
    "\n",
    "\n",
    "blind_set_results\n"
   ]
  },
  {
   "cell_type": "code",
   "execution_count": 5,
   "metadata": {},
   "outputs": [],
   "source": [
    "blind_set_results.to_csv('results/benchSVM_results_prova.tsv',mode='a',sep='\\t',header=False) "
   ]
  },
  {
   "cell_type": "code",
   "execution_count": 6,
   "metadata": {},
   "outputs": [
    {
     "data": {
      "image/png": "[encoded data removed]",
      "text/plain": [
       "<Figure size 400x400 with 1 Axes>"
      ]
     },
     "metadata": {},
     "output_type": "display_data"
    }
   ],
   "source": [
    "cm = confusion_matrix(Y_test, Y_test_pred)\n",
    "\n",
    "plt.figure(figsize=(4, 4))\n",
    "heatmap2 = sns.heatmap(cm, annot=True, fmt=\"d\", cmap='PuBuGn', cbar=False)\n",
    "heatmap2.tick_params(left=False, bottom=False)\n",
    "heatmap2.set(xticklabels=['0', '1'], yticklabels=['0', '1'])\n",
    "plt.xlabel('Predicted')\n",
    "plt.ylabel('Actual')\n",
    "plt.savefig(\"figures/confusion_matrices_benchmark.svg\", bbox_inches='tight')\n"
   ]
  },
  {
   "cell_type": "markdown",
   "metadata": {},
   "source": [
    "## FP analyses"
   ]
  },
  {
   "cell_type": "code",
   "execution_count": 7,
   "metadata": {},
   "outputs": [],
   "source": [
    "benchmarking['pred_class'] = Y_test_pred\n"
   ]
  },
  {
   "cell_type": "code",
   "execution_count": 8,
   "metadata": {},
   "outputs": [
    {
     "name": "stdout",
     "output_type": "stream",
     "text": [
      "General FPR: 0.8%\n"
     ]
    }
   ],
   "source": [
    "#save negative to do fp\n",
    "benchmarking[benchmarking['class']==0][['Entry','class','pred_class']].to_csv('benchmark_negative.tsv',sep='\\t',index=False)\n",
    "fpr = np.round(cm[0][1]/(cm[0][1]+cm[0][0]),decimals=3)\n",
    "print('General FPR: %s' % (fpr*100)+'%')"
   ]
  },
  {
   "cell_type": "code",
   "execution_count": 9,
   "metadata": {},
   "outputs": [
    {
     "data": {
      "text/html": [
       "<div>\n",
       "<style scoped>\n",
       "    .dataframe tbody tr th:only-of-type {\n",
       "        vertical-align: middle;\n",
       "    }\n",
       "\n",
       "    .dataframe tbody tr th {\n",
       "        vertical-align: top;\n",
       "    }\n",
       "\n",
       "    .dataframe thead th {\n",
       "        text-align: right;\n",
       "    }\n",
       "</style>\n",
       "<table border=\"1\" class=\"dataframe\">\n",
       "  <thead>\n",
       "    <tr style=\"text-align: right;\">\n",
       "      <th></th>\n",
       "      <th>Entry</th>\n",
       "      <th>pred_class</th>\n",
       "      <th>TM</th>\n",
       "      <th>TP</th>\n",
       "      <th>TP_location</th>\n",
       "    </tr>\n",
       "  </thead>\n",
       "  <tbody>\n",
       "    <tr>\n",
       "      <th>0</th>\n",
       "      <td>Q9H444</td>\n",
       "      <td>0</td>\n",
       "      <td>0</td>\n",
       "      <td>0</td>\n",
       "      <td>NaN</td>\n",
       "    </tr>\n",
       "    <tr>\n",
       "      <th>1</th>\n",
       "      <td>Q8S8D3</td>\n",
       "      <td>0</td>\n",
       "      <td>0</td>\n",
       "      <td>0</td>\n",
       "      <td>NaN</td>\n",
       "    </tr>\n",
       "    <tr>\n",
       "      <th>2</th>\n",
       "      <td>Q9FG00</td>\n",
       "      <td>0</td>\n",
       "      <td>1</td>\n",
       "      <td>0</td>\n",
       "      <td>NaN</td>\n",
       "    </tr>\n",
       "    <tr>\n",
       "      <th>3</th>\n",
       "      <td>P82929</td>\n",
       "      <td>0</td>\n",
       "      <td>0</td>\n",
       "      <td>0</td>\n",
       "      <td>NaN</td>\n",
       "    </tr>\n",
       "    <tr>\n",
       "      <th>4</th>\n",
       "      <td>Q00IB6</td>\n",
       "      <td>0</td>\n",
       "      <td>0</td>\n",
       "      <td>0</td>\n",
       "      <td>NaN</td>\n",
       "    </tr>\n",
       "    <tr>\n",
       "      <th>...</th>\n",
       "      <td>...</td>\n",
       "      <td>...</td>\n",
       "      <td>...</td>\n",
       "      <td>...</td>\n",
       "      <td>...</td>\n",
       "    </tr>\n",
       "    <tr>\n",
       "      <th>1900</th>\n",
       "      <td>G5EGF8</td>\n",
       "      <td>0</td>\n",
       "      <td>0</td>\n",
       "      <td>0</td>\n",
       "      <td>NaN</td>\n",
       "    </tr>\n",
       "    <tr>\n",
       "      <th>1901</th>\n",
       "      <td>Q8WXI9</td>\n",
       "      <td>0</td>\n",
       "      <td>0</td>\n",
       "      <td>0</td>\n",
       "      <td>NaN</td>\n",
       "    </tr>\n",
       "    <tr>\n",
       "      <th>1902</th>\n",
       "      <td>Q3EBC8</td>\n",
       "      <td>0</td>\n",
       "      <td>0</td>\n",
       "      <td>0</td>\n",
       "      <td>NaN</td>\n",
       "    </tr>\n",
       "    <tr>\n",
       "      <th>1903</th>\n",
       "      <td>Q8I615</td>\n",
       "      <td>0</td>\n",
       "      <td>0</td>\n",
       "      <td>0</td>\n",
       "      <td>NaN</td>\n",
       "    </tr>\n",
       "    <tr>\n",
       "      <th>1904</th>\n",
       "      <td>P91928</td>\n",
       "      <td>0</td>\n",
       "      <td>1</td>\n",
       "      <td>0</td>\n",
       "      <td>NaN</td>\n",
       "    </tr>\n",
       "  </tbody>\n",
       "</table>\n",
       "<p>1905 rows × 5 columns</p>\n",
       "</div>"
      ],
      "text/plain": [
       "       Entry  pred_class  TM  TP TP_location\n",
       "0     Q9H444           0   0   0         NaN\n",
       "1     Q8S8D3           0   0   0         NaN\n",
       "2     Q9FG00           0   1   0         NaN\n",
       "3     P82929           0   0   0         NaN\n",
       "4     Q00IB6           0   0   0         NaN\n",
       "...      ...         ...  ..  ..         ...\n",
       "1900  G5EGF8           0   0   0         NaN\n",
       "1901  Q8WXI9           0   0   0         NaN\n",
       "1902  Q3EBC8           0   0   0         NaN\n",
       "1903  Q8I615           0   0   0         NaN\n",
       "1904  P91928           0   1   0         NaN\n",
       "\n",
       "[1905 rows x 5 columns]"
      ]
     },
     "execution_count": 9,
     "metadata": {},
     "output_type": "execute_result"
    }
   ],
   "source": [
    "benchmark_neg = benchmarking[benchmarking['class']==0][['Entry','pred_class']]\n",
    "benchmark_neg['TM']=0\n",
    "with open('../vonHeijne/fp_analysis/neg_transmem') as file:\n",
    "    tm_subset = [line.strip() for line in file]\n",
    "benchmark_neg['TM'] = benchmark_neg['Entry'].isin(tm_subset).astype(int)\n",
    "\n",
    "tp_subset = pd.read_table('../vonHeijne/fp_analysis/neg_transit',sep='\\t',names=['Entry','TP_location'])\n",
    "benchmark_neg = pd.merge(benchmark_neg,tp_subset,on='Entry',how = 'outer')\n",
    "benchmark_neg.insert(loc=3, column='TP', value=0)\n",
    "benchmark_neg.loc[benchmark_neg['TP_location'].notna(), 'TP'] = 1\n",
    "benchmark_neg"
   ]
  },
  {
   "cell_type": "markdown",
   "metadata": {},
   "source": [
    "### FPR_TM"
   ]
  },
  {
   "cell_type": "code",
   "execution_count": 10,
   "metadata": {},
   "outputs": [
    {
     "name": "stdout",
     "output_type": "stream",
     "text": [
      "FPR_TM: 4.7%\n"
     ]
    }
   ],
   "source": [
    "tm_FP = benchmark_neg[(benchmark_neg['TM']==1) & (benchmark_neg['pred_class']==1)].shape[0]\n",
    "tm = benchmark_neg[(benchmark_neg['TM']==1)].shape[0]\n",
    "FPR_tm =np.round((tm_FP/tm)*100,decimals=2)\n",
    "print('FPR_TM: %s' % (FPR_tm)+'%')\n",
    "#\n",
    "\n"
   ]
  },
  {
   "cell_type": "markdown",
   "metadata": {},
   "source": [
    "### FPR_TP"
   ]
  },
  {
   "cell_type": "code",
   "execution_count": 11,
   "metadata": {},
   "outputs": [
    {
     "name": "stdout",
     "output_type": "stream",
     "text": [
      "FPR_TP: 0.5%\n"
     ]
    }
   ],
   "source": [
    "tp_FP = benchmark_neg[(benchmark_neg['TP']==1) & (benchmark_neg['pred_class']==1)].shape[0]\n",
    "tp = benchmark_neg[(benchmark_neg['TP']==1)].shape[0]\n",
    "FPR_tp =np.round((tp_FP/tp)*100,decimals=1)\n",
    "print('FPR_TP: %s' % (FPR_tp)+'%')"
   ]
  },
  {
   "cell_type": "markdown",
   "metadata": {},
   "source": [
    "### FPR_TM and FPR_TP visualization\n"
   ]
  },
  {
   "cell_type": "code",
   "execution_count": 12,
   "metadata": {},
   "outputs": [
    {
     "data": {
      "text/html": [
       "<div>\n",
       "<style scoped>\n",
       "    .dataframe tbody tr th:only-of-type {\n",
       "        vertical-align: middle;\n",
       "    }\n",
       "\n",
       "    .dataframe tbody tr th {\n",
       "        vertical-align: top;\n",
       "    }\n",
       "\n",
       "    .dataframe thead th {\n",
       "        text-align: right;\n",
       "    }\n",
       "</style>\n",
       "<table border=\"1\" class=\"dataframe\">\n",
       "  <thead>\n",
       "    <tr style=\"text-align: right;\">\n",
       "      <th></th>\n",
       "      <th>pred_class</th>\n",
       "      <th>feature</th>\n",
       "    </tr>\n",
       "  </thead>\n",
       "  <tbody>\n",
       "    <tr>\n",
       "      <th>0</th>\n",
       "      <td>TN</td>\n",
       "      <td>Transmembrane</td>\n",
       "    </tr>\n",
       "    <tr>\n",
       "      <th>1</th>\n",
       "      <td>TN</td>\n",
       "      <td>Transmembrane</td>\n",
       "    </tr>\n",
       "    <tr>\n",
       "      <th>2</th>\n",
       "      <td>TN</td>\n",
       "      <td>Transmembrane</td>\n",
       "    </tr>\n",
       "    <tr>\n",
       "      <th>3</th>\n",
       "      <td>TN</td>\n",
       "      <td>Transmembrane</td>\n",
       "    </tr>\n",
       "    <tr>\n",
       "      <th>4</th>\n",
       "      <td>TN</td>\n",
       "      <td>Transmembrane</td>\n",
       "    </tr>\n",
       "    <tr>\n",
       "      <th>...</th>\n",
       "      <td>...</td>\n",
       "      <td>...</td>\n",
       "    </tr>\n",
       "    <tr>\n",
       "      <th>360</th>\n",
       "      <td>TN</td>\n",
       "      <td>Transit peptide</td>\n",
       "    </tr>\n",
       "    <tr>\n",
       "      <th>361</th>\n",
       "      <td>TN</td>\n",
       "      <td>Transit peptide</td>\n",
       "    </tr>\n",
       "    <tr>\n",
       "      <th>362</th>\n",
       "      <td>TN</td>\n",
       "      <td>Transit peptide</td>\n",
       "    </tr>\n",
       "    <tr>\n",
       "      <th>363</th>\n",
       "      <td>TN</td>\n",
       "      <td>Transit peptide</td>\n",
       "    </tr>\n",
       "    <tr>\n",
       "      <th>364</th>\n",
       "      <td>TN</td>\n",
       "      <td>Transit peptide</td>\n",
       "    </tr>\n",
       "  </tbody>\n",
       "</table>\n",
       "<p>365 rows × 2 columns</p>\n",
       "</div>"
      ],
      "text/plain": [
       "    pred_class          feature\n",
       "0           TN    Transmembrane\n",
       "1           TN    Transmembrane\n",
       "2           TN    Transmembrane\n",
       "3           TN    Transmembrane\n",
       "4           TN    Transmembrane\n",
       "..         ...              ...\n",
       "360         TN  Transit peptide\n",
       "361         TN  Transit peptide\n",
       "362         TN  Transit peptide\n",
       "363         TN  Transit peptide\n",
       "364         TN  Transit peptide\n",
       "\n",
       "[365 rows x 2 columns]"
      ]
     },
     "execution_count": 12,
     "metadata": {},
     "output_type": "execute_result"
    }
   ],
   "source": [
    "\n",
    "benchmark_neg.loc[benchmark_neg['pred_class'] == 1,'pred_class']='FP'\n",
    "benchmark_neg.loc[benchmark_neg['pred_class'] == 0,'pred_class']='TN'\n",
    "################################################################################################\n",
    "tm_df = benchmark_neg[benchmark_neg['TM']==1][['pred_class','TM']]\n",
    "tm_df['feature'] = 'Transmembrane'\n",
    "#\n",
    "tp_df = benchmark_neg[benchmark_neg['TP']==1][['pred_class','TP']]\n",
    "tp_df['feature'] = 'Transit peptide'\n",
    "#\n",
    "tm_tp = pd.concat((tm_df[['pred_class','feature']],tp_df[['pred_class','feature']]),ignore_index=True)\n",
    "tm_tp\n"
   ]
  },
  {
   "cell_type": "code",
   "execution_count": 13,
   "metadata": {},
   "outputs": [
    {
     "data": {
      "image/png": "[encoded data removed]",
      "text/plain": [
       "<Figure size 300x600 with 1 Axes>"
      ]
     },
     "metadata": {},
     "output_type": "display_data"
    }
   ],
   "source": [
    "\n",
    "#palette = {\"TN\":\"#CCB3B5\",\"FP\":\"#4D191F\"}\n",
    "sns.set_style(\"darkgrid\")\n",
    "plt.figure(figsize=(3, 6))\n",
    "sns.histplot(data=tm_tp,x = 'feature',hue='pred_class',alpha=1,stat='count',multiple='stack',common_norm=False,shrink=0.6,palette='viridis')\n",
    "plt.legend(title='', labels=['TN', 'FP'])\n",
    "plt.xlabel('')\n",
    "plt.ylabel('Counts')\n",
    "plt.text(-0.12, 100, f' FPR\\n{FPR_tm}%', fontsize=10)\n",
    "plt.text(0.9, 100, f'FPR\\n{FPR_tp}%', fontsize=10)\n",
    "plt.savefig(\"figures/FPR_TMandFPR_TP.svg\",bbox_inches='tight')\n"
   ]
  },
  {
   "cell_type": "markdown",
   "metadata": {},
   "source": [
    "### Over-representation of transmembrane proteins in FP with respect to TN\n"
   ]
  },
  {
   "cell_type": "code",
   "execution_count": 14,
   "metadata": {},
   "outputs": [],
   "source": [
    "\n",
    "benchmark_neg.loc[benchmark_neg['TM'] == 1,'TM']='Transmembrane'\n",
    "benchmark_neg.loc[benchmark_neg['TM'] == 0,'TM']='Non-Transmembrane'\n",
    "benchmark_neg.loc[benchmark_neg['TP'] == 1,'TP']='Transit peptide'\n",
    "benchmark_neg.loc[benchmark_neg['TP'] == 0,'TP']='Non-Transit peptide'\n",
    "pivot_df = benchmark_neg.pivot_table(index='pred_class', columns='TM', values='Entry', aggfunc='count', fill_value=0)\n",
    "columns_titles = ['Transmembrane',\"Non-Transmembrane\"] #change cols order\n",
    "pivot_df = pivot_df.reindex(columns=columns_titles)\n",
    "OR, p_val = fisher_exact(pivot_df)\n",
    "p_val = '{:0.2e}'.format(p_val)\n"
   ]
  },
  {
   "cell_type": "code",
   "execution_count": 15,
   "metadata": {},
   "outputs": [
    {
     "data": {
      "image/png": "[encoded data removed]",
      "text/plain": [
       "<Figure size 300x600 with 1 Axes>"
      ]
     },
     "metadata": {},
     "output_type": "display_data"
    }
   ],
   "source": [
    "\n",
    "# \n",
    "pivot_df['Total'] = pivot_df['Transmembrane'] + pivot_df['Non-Transmembrane']\n",
    "pivot_df['Transmembrane_Percentage'] = (pivot_df['Transmembrane'] / pivot_df['Total']) * 100\n",
    "pivot_df['Non_transmembrane_Percentage'] = (pivot_df['Non-Transmembrane'] / pivot_df['Total']) * 100\n",
    "\n",
    "pivot_df = pivot_df[['Transmembrane_Percentage', 'Non_transmembrane_Percentage']]\n",
    "# Create the stacked barplot\n",
    "plt.rcParams['figure.figsize'] = [3, 6]\n",
    "pivot_df[['Transmembrane_Percentage', 'Non_transmembrane_Percentage']].plot(kind='bar', stacked=True, colormap='Accent',width=0.6)\n",
    "#plt.title('TM percentages by classes')\n",
    "plt.xlabel('')\n",
    "plt.ylabel('%')\n",
    "plt.legend(title='', loc='upper right', labels=['TM','non-TM'], bbox_to_anchor=(1.6, 1))\n",
    "plt.text(1.8, 50, f'p_val = {p_val}\\nOR = {OR:.2f}', fontsize=10)\n",
    "plt.savefig(\"figures/ORofTMinFP.svg\", bbox_inches='tight')\n"
   ]
  },
  {
   "cell_type": "markdown",
   "metadata": {},
   "source": [
    "### Over-representation of transit peptide proteins in FP with respect to TN\n"
   ]
  },
  {
   "cell_type": "code",
   "execution_count": 16,
   "metadata": {},
   "outputs": [
    {
     "data": {
      "image/png": "[encoded data removed]",
      "text/plain": [
       "<Figure size 300x600 with 1 Axes>"
      ]
     },
     "metadata": {},
     "output_type": "display_data"
    }
   ],
   "source": [
    "\n",
    "pivot_df2 = benchmark_neg.pivot_table(index='pred_class', columns='TP', values='Entry', aggfunc='count', fill_value=0)\n",
    "#\n",
    "columns_titles = ['Transit peptide',\"Non-Transit peptide\"]\n",
    "pivot_df2=pivot_df2.reindex(columns=columns_titles)\n",
    "OR, p_val = fisher_exact(pivot_df2)\n",
    "# \n",
    "pivot_df2['Total'] = pivot_df2['Transit peptide'] + pivot_df2['Non-Transit peptide']\n",
    "pivot_df2['Transit peptide_Percentage'] = (pivot_df2['Transit peptide'] / pivot_df2['Total']) * 100\n",
    "pivot_df2['Non_Transit-peptide_Percentage'] = (pivot_df2['Non-Transit peptide'] / pivot_df2['Total']) * 100\n",
    "pivot_df = pivot_df[['Transmembrane_Percentage', 'Non_transmembrane_Percentage']]\n",
    "#\n",
    "plt.rcParams['figure.figsize'] = [3, 6]\n",
    "pivot_df2[['Transit peptide_Percentage', 'Non_Transit-peptide_Percentage']].plot(kind='bar', stacked=True, colormap='Dark2',width=0.6)\n",
    "#plt.title('TP by classes')\n",
    "plt.xlabel('')\n",
    "plt.ylabel('%')\n",
    "plt.legend(title='', labels=['TS', 'non-TS'], bbox_to_anchor=(1.5, 1))\n",
    "plt.text(1.8, 50, f'p_val = {p_val:.2f}\\nOR = {OR:.2f}', fontsize=10)\n",
    "plt.savefig(\"figures/ORofTPinFP.svg\", bbox_inches='tight')\n"
   ]
  },
  {
   "cell_type": "markdown",
   "metadata": {},
   "source": [
    "## FN analyses"
   ]
  },
  {
   "cell_type": "code",
   "execution_count": 17,
   "metadata": {},
   "outputs": [
    {
     "name": "stdout",
     "output_type": "stream",
     "text": [
      "FNR: 12.785%\n"
     ]
    }
   ],
   "source": [
    "#FNR (FN/FN+TP) or miss rate\n",
    "fn = cm[1,0]\n",
    "fnr =  np.round(cm[1,0]/(cm[1,0]+cm[1,1])*100,decimals=3)\n",
    "print('FNR: %s' % (fnr)+'%')"
   ]
  },
  {
   "cell_type": "markdown",
   "metadata": {},
   "source": [
    "#### Compare SP len of FNs VS TPs (Mann-Whitney U)"
   ]
  },
  {
   "cell_type": "code",
   "execution_count": 18,
   "metadata": {},
   "outputs": [
    {
     "data": {
      "image/png": "[encoded data removed]",
      "text/plain": [
       "<Figure size 400x700 with 1 Axes>"
      ]
     },
     "metadata": {},
     "output_type": "display_data"
    }
   ],
   "source": [
    "positives = benchmarking[benchmarking['class']==1]\n",
    "#MWU pval\n",
    "tp_len = np.array(positives[positives['pred_class']==1]['Signal peptide'])\n",
    "fn_len = np.array(positives[positives['pred_class']==0]['Signal peptide'])\n",
    "U1,p_val = mannwhitneyu(fn_len, tp_len, use_continuity=True, alternative='greater', axis=0, method='auto')\n",
    "#\n",
    "positives.loc[positives['pred_class']==1,'pred_class'] = 'TP'\n",
    "positives.loc[positives['pred_class']==0,'pred_class'] = 'FN'\n",
    "#\n",
    "sns.set(style=\"darkgrid\")\n",
    "plt.figure(figsize=(4, 7))\n",
    "\n",
    "sns.set(rc={\"figure.figsize\":(4, 6)},style = 'whitegrid') \n",
    "sns.violinplot(data=positives, y=\"Signal peptide\",x='pred_class',inner='quartile',palette=['#d8572a','#62b6cb'])\n",
    "plt.ylabel('SP length')#plt.text(-0.3, 65, f'MWU p-val = {p_val:.4f}', fontsize=12)\n",
    "plt.savefig(\"figures/SPlength_FN.svg\", bbox_inches='tight')"
   ]
  },
  {
   "cell_type": "markdown",
   "metadata": {},
   "source": [
    "## FN vs TP N-COMP (:K)"
   ]
  },
  {
   "cell_type": "code",
   "execution_count": 19,
   "metadata": {},
   "outputs": [],
   "source": [
    "euc_freq = {'M': 2.294367689100498, 'R': 5.28659479524882, 'F': 4.061144192552833, 'Q': 4.243880060805525, 'V': 6.195116301658416, 'I': 5.2782038449558515, 'A': 6.964597776165187, 'T': 5.474762802434163, 'S': 8.167359184996902, 'Y': 2.9958458540998643, 'P': 5.352921291956602, 'G': 6.4210338295777225, 'D': 5.162172071912705, 'L': 9.66490107039764, 'N': 4.366213941365931, 'K': 5.957815728327312, 'E': 6.579050194696789, 'H': 2.411104159651493, 'W': 1.2401562853801333, 'C': 1.882758924715616}\n",
    "euc_freq = pd.DataFrame(euc_freq.items(),columns=['aa','%'])"
   ]
  },
  {
   "cell_type": "code",
   "execution_count": 20,
   "metadata": {},
   "outputs": [],
   "source": [
    "#TP\n",
    "#note that are present Z,U,X letters too\n",
    "tp_comp = {'Z' :0,'U' :0,'X' :0,'A': 0, 'Q': 0, 'L': 0, 'S': 0, 'R': 0, 'E': 0, 'K': 0, 'T': 0, 'N': 0, 'G': 0, 'M': 0, 'W': 0, 'D': 0, 'H': 0, 'F': 0, 'Y': 0, 'C': 0, 'I': 0, 'P': 0, 'V': 0}\n",
    "for index, row in positives.iterrows():\n",
    "    if row['pred_class']=='TP':\n",
    "        for char in row[\"Sequence\"][:K]:\n",
    "            tp_comp[char] += 1\n",
    "#remove strange aa\n",
    "aa_to_remove = ['X','Z','U']\n",
    "for key in aa_to_remove:\n",
    "    tp_comp.pop(key)\n",
    "#normalize the frequencies\n",
    "factor=sum(tp_comp.values())/100\n",
    "for k in tp_comp.keys():\n",
    "    tp_comp[k] = tp_comp[k]/factor\n",
    "#FN\n",
    "#note that are present Z,U,X letters too\n",
    "fn_comp = {'Z' :0,'U' :0,'X' :0,'A': 0, 'Q': 0, 'L': 0, 'S': 0, 'R': 0, 'E': 0, 'K': 0, 'T': 0, 'N': 0, 'G': 0, 'M': 0, 'W': 0, 'D': 0, 'H': 0, 'F': 0, 'Y': 0, 'C': 0, 'I': 0, 'P': 0, 'V': 0}\n",
    "for index, row in positives.iterrows():\n",
    "    if row['pred_class']=='FN':\n",
    "        for char in row[\"Sequence\"][:K]:\n",
    "            fn_comp[char] += 1\n",
    "#remove strange aa\n",
    "aa_to_remove = ['X','Z','U']\n",
    "for key in aa_to_remove:\n",
    "    fn_comp.pop(key)\n",
    "#normalize the frequencies\n",
    "factor=sum(fn_comp.values())/100\n",
    "for k in fn_comp.keys():\n",
    "    fn_comp[k] = fn_comp[k]/factor"
   ]
  },
  {
   "cell_type": "code",
   "execution_count": 21,
   "metadata": {},
   "outputs": [],
   "source": [
    "amino_acid_groups = {\n",
    "    'polar': ['S', 'T', 'N', 'Q', 'H','C'],\n",
    "    'apolar': ['G', 'A', 'V', 'P', 'L', 'I', 'M'],\n",
    "    'charged': [ 'D', 'E', 'K', 'R'],\n",
    "    'aromatic': ['F', 'W', 'Y']}\n",
    "aa_order = ['G','A','V','P','L','I','M','D','E','K','R','F','W','Y','S','T','C','N','Q','H']     \n",
    "tp_comp = pd.DataFrame(tp_comp.items(),columns=['aa','%'])\n",
    "fn_comp = pd.DataFrame(fn_comp.items(),columns=['aa','%'])\n",
    "tp_comp['set'] = 'TP'\n",
    "fn_comp['set'] = 'FN'\n",
    "df_composition = pd.concat((tp_comp, fn_comp),ignore_index=True)\n",
    "\n",
    "euc_freq['group'] = euc_freq['aa'].apply(lambda x: next((group for group, aas in amino_acid_groups.items() if x in aas), None))\n",
    "df_composition['group'] = df_composition['aa'].apply(lambda x: next((group for group, aas in amino_acid_groups.items() if x in aas), None))\n"
   ]
  },
  {
   "cell_type": "code",
   "execution_count": 22,
   "metadata": {},
   "outputs": [
    {
     "data": {
      "image/png": "[encoded data removed]",
      "text/plain": [
       "<Figure size 1400x800 with 1 Axes>"
      ]
     },
     "metadata": {},
     "output_type": "display_data"
    }
   ],
   "source": [
    "#graph\n",
    "#plot the training and the benchmarking frequencies over the background frequencies\n",
    "sns.set(style=\"darkgrid\")\n",
    "plt.figure(figsize=(14, 8))\n",
    "\n",
    "sns.barplot(data=euc_freq, x='aa', y='%',hue='group', palette=['#ffc2d4','#ff7aa2','#8a2846','#522e38'], order=aa_order, dodge=False, width=0.8, alpha=0.9)\n",
    "sns.barplot(data=df_composition, x='aa', y='%', hue='set', palette=['#d8572a','#62b6cb'], width=0.5, order = aa_order)\n",
    "\n",
    "#['#222E50','#007991','#439A86','#BCD8C1']['#ff9505','#ffc971']\n",
    "plt.xlabel('Amino Acid')\n",
    "plt.ylabel('Frequency')\n",
    "#plt.title('Differences in amino acid composition at the N-terminal in TP and FN (vs SwissProt-eukaryotes)')\n",
    "\n",
    "# Define custom legend labels, colors, and marker styles (using 'o' for circular markers)\n",
    "legend_labels1 = {'TP': ('#d8572a', 'o'), 'FN': ('#62b6cb', 'o')}\n",
    "legend_labels2 = {'apolar': ('#ffc2d4', 'o'), 'aromatic': ('#ff7aa2', 'o'), 'charged': ('#8a2846', 'o'), 'polar': ('#522e38', 'o')}\n",
    "\n",
    "# Create custom legend handles (lines with circular markers) and labels for the first plot\n",
    "legend_handles1 = [plt.Line2D([], [], color=color, marker=marker, markersize=10, label=label) for label, (color, marker) in legend_labels1.items()]\n",
    "legend_labels1 = list(legend_labels1.keys())  # Use the legend labels as-is\n",
    "\n",
    "# Create custom legend handles (lines with circular markers) and labels for the second plot\n",
    "legend_handles2 = [plt.Line2D([], [], color=color, marker=marker, markersize=10, label=label) for label, (color, marker) in legend_labels2.items()]\n",
    "legend_labels2 = list(legend_labels2.keys())  # Use the legend labels as-is\n",
    "\n",
    "# Create a custom legend for the first plot\n",
    "legend1 = plt.legend(handles=legend_handles1, title=\"class\", loc=\"upper right\", labels=legend_labels1)\n",
    "legend1.get_title().set_fontsize('10')  # Adjust the legend title font size here\n",
    "\n",
    "# Create a custom legend for the second plot\n",
    "legend2 = plt.legend(handles=legend_handles2, title=\"Group\", loc=\"upper left\", labels=legend_labels2)\n",
    "legend2.get_title().set_fontsize('10')  # Adjust the legend title font size here\n",
    "\n",
    "\n",
    "# Add both legends to the plot\n",
    "plt.gca().add_artist(legend1)\n",
    "plt.gca().add_artist(legend2)\n",
    "plt.savefig(\"figures/Ncomp_FNTP.svg\", bbox_inches='tight')\n",
    "#plt.legend(title='Legend', loc='upper right')\n"
   ]
  },
  {
   "cell_type": "markdown",
   "metadata": {},
   "source": [
    "### C-COMP "
   ]
  },
  {
   "cell_type": "code",
   "execution_count": 23,
   "metadata": {},
   "outputs": [],
   "source": [
    "#TP\n",
    "#note that are present Z,U,X letters too\n",
    "tp_comp = {'Z' :0,'U' :0,'X' :0,'A': 0, 'Q': 0, 'L': 0, 'S': 0, 'R': 0, 'E': 0, 'K': 0, 'T': 0, 'N': 0, 'G': 0, 'M': 0, 'W': 0, 'D': 0, 'H': 0, 'F': 0, 'Y': 0, 'C': 0, 'I': 0, 'P': 0, 'V': 0}\n",
    "for index, row in positives.iterrows():\n",
    "    if row['pred_class']=='TP':\n",
    "        for char in row[\"Sequence\"][K:]:\n",
    "            tp_comp[char] += 1\n",
    "#remove strange aa\n",
    "aa_to_remove = ['X','Z','U']\n",
    "for key in aa_to_remove:\n",
    "    tp_comp.pop(key)\n",
    "#normalize the frequencies\n",
    "factor=sum(tp_comp.values())/100\n",
    "for k in tp_comp.keys():\n",
    "    tp_comp[k] = tp_comp[k]/factor\n",
    "#FN\n",
    "#note that are present Z,U,X letters too\n",
    "fn_comp = {'Z' :0,'U' :0,'X' :0,'A': 0, 'Q': 0, 'L': 0, 'S': 0, 'R': 0, 'E': 0, 'K': 0, 'T': 0, 'N': 0, 'G': 0, 'M': 0, 'W': 0, 'D': 0, 'H': 0, 'F': 0, 'Y': 0, 'C': 0, 'I': 0, 'P': 0, 'V': 0}\n",
    "for index, row in positives.iterrows():\n",
    "    if row['pred_class']=='FN':\n",
    "        for char in row[\"Sequence\"][K:]:\n",
    "            fn_comp[char] += 1\n",
    "#remove strange aa\n",
    "aa_to_remove = ['X','Z','U']\n",
    "for key in aa_to_remove:\n",
    "    fn_comp.pop(key)\n",
    "#normalize the frequencies\n",
    "factor=sum(fn_comp.values())/100\n",
    "for k in fn_comp.keys():\n",
    "    fn_comp[k] = fn_comp[k]/factor\n"
   ]
  },
  {
   "cell_type": "code",
   "execution_count": 24,
   "metadata": {},
   "outputs": [],
   "source": [
    "amino_acid_groups = {\n",
    "    'polar': ['S', 'T', 'N', 'Q', 'H','C'],\n",
    "    'apolar': ['G', 'A', 'V', 'P', 'L', 'I', 'M'],\n",
    "    'charged': [ 'D', 'E', 'K', 'R'],\n",
    "    'aromatic': ['F', 'W', 'Y']}\n",
    "aa_order = ['G','A','V','P','L','I','M','D','E','K','R','F','W','Y','S','T','C','N','Q','H']     \n",
    "tp_comp = pd.DataFrame(tp_comp.items(),columns=['aa','%'])\n",
    "fn_comp = pd.DataFrame(fn_comp.items(),columns=['aa','%'])\n",
    "tp_comp['set'] = 'TP'\n",
    "fn_comp['set'] = 'FN'\n",
    "df_composition = pd.concat((tp_comp, fn_comp),ignore_index=True)\n",
    "\n",
    "euc_freq['group'] = euc_freq['aa'].apply(lambda x: next((group for group, aas in amino_acid_groups.items() if x in aas), None))\n",
    "df_composition['group'] = df_composition['aa'].apply(lambda x: next((group for group, aas in amino_acid_groups.items() if x in aas), None))\n"
   ]
  },
  {
   "cell_type": "code",
   "execution_count": 25,
   "metadata": {},
   "outputs": [
    {
     "data": {
      "image/png": "[encoded data removed]",
      "text/plain": [
       "<Figure size 1400x600 with 1 Axes>"
      ]
     },
     "metadata": {},
     "output_type": "display_data"
    }
   ],
   "source": [
    "sns.set(rc={\"figure.figsize\":(14, 6)},style = 'whitegrid') \n",
    "sns.barplot(data=euc_freq,x='aa',y='%',width=0.8,order=aa_order,hue='group',alpha=1,dodge=False,palette=[\"#993767\",\"#be5168\",\"#e16552\",\"#e2975d\",\"#e9d78e\",\"#3b8d9c\"])\n",
    "sns.barplot(data=df_composition,x='aa',y='%',hue='set',width=0.4,order=aa_order,palette=['#005566','#92C8D3']).set(title='C-term-COMPOSITION: TP vs FN (vs SwissProt)', xlabel='aa', ylabel='freq %')\n",
    "# Create custom legend handles for the first legend\n",
    "handles1 = [plt.Line2D([0], [0], marker='o', color='w', markerfacecolor=color, markersize=10, label=label) for label, color in zip(euc_freq['group'].unique(), [\"#993767\", \"#be5168\", \"#e16552\", \"#e2975d\", \"#e9d78e\", \"#3b8d9c\"])]\n",
    "# Create custom legend handles for the second legend\n",
    "handles2 = [plt.Line2D([0], [0], marker='o', color='w', markerfacecolor=color, markersize=10, label=label) for label, color in zip(df_composition['set'].unique(), ['#005566', '#92C8D3'])]\n",
    "# Create separate legends\n",
    "legend1 = plt.legend(title=\"SwissProt background\", handles=handles1, loc='upper right')\n",
    "legend2 = plt.legend(title=\"Set\", handles=handles2, loc='upper left')\n",
    "# Add the legends to the plot\n",
    "plt.gca().add_artist(legend1)\n",
    "plt.savefig('figures/comp.svg')"
   ]
  }
 ],
 "metadata": {
  "kernelspec": {
   "display_name": "sklearn",
   "language": "python",
   "name": "python3"
  },
  "language_info": {
   "codemirror_mode": {
    "name": "ipython",
    "version": 3
   },
   "file_extension": ".py",
   "mimetype": "text/x-python",
   "name": "python",
   "nbconvert_exporter": "python",
   "pygments_lexer": "ipython3",
   "version": "3.10.10"
  },
  "orig_nbformat": 4
 },
 "nbformat": 4,
 "nbformat_minor": 2
}
